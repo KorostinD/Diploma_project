{
  "nbformat": 4,
  "nbformat_minor": 0,
  "metadata": {
    "colab": {
      "name": "Dataset Generator.ipynb",
      "provenance": [],
      "mount_file_id": "1HCm2SZwehtbgPZs_-qAsjaDuWelGeCp8",
      "authorship_tag": "ABX9TyObz/bNLDaPfjoDyHutOMhE",
      "include_colab_link": true
    },
    "kernelspec": {
      "name": "python3",
      "display_name": "Python 3"
    },
    "language_info": {
      "name": "python"
    }
  },
  "cells": [
    {
      "cell_type": "markdown",
      "metadata": {
        "id": "view-in-github",
        "colab_type": "text"
      },
      "source": [
        "<a href=\"https://colab.research.google.com/github/KorostinD/Diploma_project/blob/main/Dataset_Generator.ipynb\" target=\"_parent\"><img src=\"https://colab.research.google.com/assets/colab-badge.svg\" alt=\"Open In Colab\"/></a>"
      ]
    },
    {
      "cell_type": "code",
      "execution_count": 4,
      "metadata": {
        "id": "lVLEyOwdGwOR"
      },
      "outputs": [],
      "source": [
        "import numpy as np\n",
        "\n",
        "\n",
        "SAMPLE_RATE = 44100\n",
        "S_16BIT = 2 ** 16\n",
        "\n",
        "def generate_sample(freq, duration, volume):\n",
        "    amplitude = np.round(S_16BIT * volume)\n",
        "    # длительность генерируемого звука в сэмплах\n",
        "    total_samples = np.round(SAMPLE_RATE * duration)\n",
        "    # частоте дискретизации (пересчитанная)\n",
        "    w = 2.0 * np.pi * freq / SAMPLE_RATE\n",
        "    # массив сэмплов\n",
        "    k = np.arange(0, total_samples)\n",
        "    # массив значений функции (с округлением)\n",
        "    return np.round(amplitude * np.sin(k * w))\n",
        "\n",
        "def wgn(x, snr):\n",
        "    snr = 10**(snr/10.0)\n",
        "    xpower = np.sum(x**2)/len(x)\n",
        "    npower = xpower / snr\n",
        "    return np.random.randn(len(x)) * np.sqrt(npower)"
      ]
    },
    {
      "cell_type": "code",
      "source": [
        "import soundfile as sf\n",
        "import random\n",
        "random.seed()\n",
        "\n",
        "for i in range(120):\n",
        "  sample = generate_sample(random.randint(300, 900), 1, random.random())\n",
        "  noise = wgn(sample, random.randint(3, 35))\n",
        "  noisy_sample = sample + noise\n",
        "\n",
        "  sf.write(f'/content/drive/MyDrive/audiosample_dataset/clean_samples/{i}.wav',sample , SAMPLE_RATE, 'PCM_24')\n",
        "  sf.write(f'/content/drive/MyDrive/audiosample_dataset/noisy_samples/{i}.wav',noisy_sample , SAMPLE_RATE, 'PCM_24')"
      ],
      "metadata": {
        "id": "cYUXB60MG5w6"
      },
      "execution_count": 5,
      "outputs": []
    }
  ]
}