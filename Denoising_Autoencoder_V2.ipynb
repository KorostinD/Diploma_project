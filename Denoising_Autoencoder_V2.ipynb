{
  "nbformat": 4,
  "nbformat_minor": 0,
  "metadata": {
    "colab": {
      "name": "Denoising Autoencoder V2.ipynb",
      "provenance": [],
      "collapsed_sections": [],
      "mount_file_id": "1vXxkRe-Ep7OfRSa0_DFXoSodvZHCbye-",
      "authorship_tag": "ABX9TyPjJbFdDNvOABQnoRXYsKMQ",
      "include_colab_link": true
    },
    "kernelspec": {
      "name": "python3",
      "display_name": "Python 3"
    },
    "language_info": {
      "name": "python"
    }
  },
  "cells": [
    {
      "cell_type": "markdown",
      "metadata": {
        "id": "view-in-github",
        "colab_type": "text"
      },
      "source": [
        "<a href=\"https://colab.research.google.com/github/KorostinD/Diploma_project/blob/main/Denoising_Autoencoder_V2.ipynb\" target=\"_parent\"><img src=\"https://colab.research.google.com/assets/colab-badge.svg\" alt=\"Open In Colab\"/></a>"
      ]
    },
    {
      "cell_type": "code",
      "source": [
        "def max_arg(arr):\n",
        "  shape=arr.shape\n",
        "  max1=0\n",
        "  for i in range(shape[0]):\n",
        "    for j in range(shape[1]):\n",
        "      if arr[i,j]>max1:\n",
        "        max1=arr[i,j] \n",
        "  return max1\n"
      ],
      "metadata": {
        "id": "w5VYkvdMdx96"
      },
      "execution_count": 8,
      "outputs": []
    },
    {
      "cell_type": "code",
      "source": [
        "import numpy as np\n",
        "import librosa as lb\n",
        "import librosa.display\n",
        "import torch\n",
        "from torch import nn\n",
        "import torchvision.transforms as tfs\n",
        "from torch.utils.data import Dataset\n",
        "from torch.utils.data import DataLoader\n",
        "import os\n",
        "\n",
        "\n",
        "input_data=np.zeros((350,1025,87))\n",
        "label_data=np.zeros((350,1025,87))\n",
        "test_input_data=np.zeros((50,1025,87))\n",
        "test_label_data=np.zeros((50,1025,87))\n",
        "for i in range(400):\n",
        "  sample,sr=lb.load(f'/content/drive/MyDrive/audiosample_dataset/noisy_samples/{i}.wav',sr=44100)\n",
        "  label,sr=lb.load(f'/content/drive/MyDrive/audiosample_dataset/clean_samples/{i}.wav',sr=44100)\n",
        "  fourier_noisy= librosa.stft(sample) \n",
        "  fourierdb_noisy = librosa.amplitude_to_db(abs(fourier_noisy))\n",
        "  fourierdb_noisy_max=max_arg(fourierdb_noisy)\n",
        "  fourierdb_noisy=fourierdb_noisy/fourierdb_noisy_max\n",
        "  fourier= librosa.stft(label) \n",
        "  fourierdb = librosa.amplitude_to_db(abs(fourier))\n",
        "  fourierdb_max=max_arg(fourierdb)\n",
        "  fourierdb=fourierdb/fourierdb_max\n",
        "\n",
        "  \n",
        "\n",
        "  if i >349:\n",
        "    test_input_data[i-350]=fourierdb_noisy\n",
        "    test_label_data[i-350]=fourierdb\n",
        "  else:\n",
        "    input_data[i]=fourierdb_noisy\n",
        "    label_data[i]=fourierdb\n",
        "\n",
        "\n",
        "input_data=torch.tensor(input_data,dtype=torch.float64)\n",
        "label_data=torch.tensor(label_data,dtype=torch.float64)\n",
        "test_input_data=torch.tensor(test_input_data,dtype=torch.float64)\n",
        "test_label_data=torch.tensor(test_label_data,dtype=torch.float64)\n",
        "# print(fourierdb_noisy)\n",
        "# print(fourierdb)\n",
        "# print(label_data)"
      ],
      "metadata": {
        "id": "XDbJKwl3AspL"
      },
      "execution_count": 9,
      "outputs": []
    },
    {
      "cell_type": "code",
      "execution_count": 10,
      "metadata": {
        "id": "vH9Z1d9PAqaT"
      },
      "outputs": [],
      "source": [
        "class SpecDataset(Dataset):\n",
        "    def __init__(self, input_data, label_data, transform=False):\n",
        "        self.noisy_data = input_data\n",
        "        self.clean_data = label_data\n",
        "        \n",
        "    def __len__(self):\n",
        "        data_len=(self.noisy_data.shape)[0]\n",
        "        return data_len\n",
        "\n",
        "    def __getitem__(self, idx):\n",
        "        noisy_sample=self.noisy_data[idx]\n",
        "        label_sample=self.clean_data[idx]\n",
        "\n",
        "        return noisy_sample, label_sample"
      ]
    },
    {
      "cell_type": "code",
      "source": [
        "import matplotlib.pyplot as plt\n",
        "\n",
        "Dataset=SpecDataset(input_data,label_data)\n",
        "train_loader=DataLoader(Dataset,batch_size=1,shuffle=True,drop_last=False)\n",
        "test_loader=DataLoader(Dataset,batch_size=1,shuffle=False)\n",
        "\n",
        "class autoencoder(nn.Module):\n",
        "    def __init__(self):\n",
        "        super(autoencoder, self).__init__()\n",
        "        self.encoder = nn.Sequential(\n",
        "            nn.Conv2d(1, 8, (3,3), stride=3, padding=1), \n",
        "            nn.ReLU(True),\n",
        "            nn.MaxPool2d(2, stride=2), \n",
        "            nn.Conv2d(8, 32, (3,3), stride=2, padding=1),\n",
        "            nn.ReLU(True),\n",
        "            nn.MaxPool2d(2, stride=1) \n",
        "\n",
        "            \n",
        "        )\n",
        "        self.decoder = nn.Sequential(\n",
        "            nn.ConvTranspose2d(32, 16, (3,3), stride=2), \n",
        "            nn.ReLU(True),\n",
        "            nn.ConvTranspose2d(16, 8, (5,5), stride=3, padding=1), \n",
        "            nn.ReLU(True),\n",
        "            nn.ConvTranspose2d(8, 1, (3,3), stride=2, padding=1),\n",
        "            nn.Tanh(),\n",
        "            nn.ReLU(True)\n",
        "        )\n",
        "\n",
        "    def forward(self, x):\n",
        "        x=x.to(torch.float32)\n",
        "        x = self.encoder(x)\n",
        "        x = self.decoder(x)\n",
        "        #x=x.to(torch.float64)\n",
        "        return x\n",
        "\n",
        "model=autoencoder()\n",
        "\n",
        "criterion = nn.MSELoss()\n",
        "optimizer = torch.optim.Adam(model.parameters(), lr=1e-5,\n",
        "                             weight_decay=0)\n",
        "\n",
        "num_epochs=100\n",
        "losslist=list()\n",
        "for epoch in range(num_epochs):\n",
        "    for noisy_sample, label_sample in train_loader:\n",
        "      output=model(noisy_sample)\n",
        "      loss=criterion(noisy_sample,label_sample)\n",
        "      optimizer.zero_grad()\n",
        "      loss.requires_grad=True\n",
        "      loss.backward()\n",
        "      optimizer.step()\n",
        "      # loss_np=loss.detach().numpy()\n",
        "      # losslist.append(loss_np)\n",
        "    print('epoch [{}/{}], loss:{:.8f}'\n",
        "            .format(epoch+1, num_epochs, loss))\n",
        "    loss_np=loss.detach().numpy()\n",
        "    losslist.append(loss_np)\n",
        "#looslist=losslist.detach().numpy()\n",
        "plt.plot(range(len(losslist)),losslist)"
      ],
      "metadata": {
        "colab": {
          "base_uri": "https://localhost:8080/",
          "height": 1000
        },
        "id": "zxh_ecCWQBeR",
        "outputId": "ee84a2bd-c713-4211-9891-cfc64418fdeb"
      },
      "execution_count": 13,
      "outputs": [
        {
          "output_type": "stream",
          "name": "stdout",
          "text": [
            "epoch [1/100], loss:0.06460545\n",
            "epoch [2/100], loss:0.05651458\n",
            "epoch [3/100], loss:0.05381035\n",
            "epoch [4/100], loss:0.04193297\n",
            "epoch [5/100], loss:0.08432474\n",
            "epoch [6/100], loss:0.05210627\n",
            "epoch [7/100], loss:0.05447862\n",
            "epoch [8/100], loss:0.03688003\n",
            "epoch [9/100], loss:0.08796408\n",
            "epoch [10/100], loss:0.02171239\n",
            "epoch [11/100], loss:0.07792969\n",
            "epoch [12/100], loss:0.28022993\n",
            "epoch [13/100], loss:0.15590253\n",
            "epoch [14/100], loss:0.08101008\n",
            "epoch [15/100], loss:0.15698489\n",
            "epoch [16/100], loss:0.06388942\n",
            "epoch [17/100], loss:0.07559049\n",
            "epoch [18/100], loss:0.14925938\n",
            "epoch [19/100], loss:0.12426968\n",
            "epoch [20/100], loss:0.02915160\n",
            "epoch [21/100], loss:0.04160633\n",
            "epoch [22/100], loss:0.15275490\n",
            "epoch [23/100], loss:0.01945277\n",
            "epoch [24/100], loss:0.15411123\n",
            "epoch [25/100], loss:0.12107323\n",
            "epoch [26/100], loss:0.13021812\n",
            "epoch [27/100], loss:0.23124292\n",
            "epoch [28/100], loss:0.23341060\n",
            "epoch [29/100], loss:0.08724361\n",
            "epoch [30/100], loss:0.05210627\n",
            "epoch [31/100], loss:0.18171318\n",
            "epoch [32/100], loss:0.04623473\n",
            "epoch [33/100], loss:0.06887751\n",
            "epoch [34/100], loss:0.08747057\n",
            "epoch [35/100], loss:0.08351199\n",
            "epoch [36/100], loss:0.27596582\n",
            "epoch [37/100], loss:0.38269841\n",
            "epoch [38/100], loss:0.27282569\n",
            "epoch [39/100], loss:0.08101008\n",
            "epoch [40/100], loss:0.07385714\n",
            "epoch [41/100], loss:0.03215445\n",
            "epoch [42/100], loss:0.18171318\n",
            "epoch [43/100], loss:0.13902888\n",
            "epoch [44/100], loss:0.02731655\n",
            "epoch [45/100], loss:0.04891317\n",
            "epoch [46/100], loss:0.07186593\n",
            "epoch [47/100], loss:0.08406939\n",
            "epoch [48/100], loss:0.02073621\n",
            "epoch [49/100], loss:0.07678476\n",
            "epoch [50/100], loss:0.13021812\n",
            "epoch [51/100], loss:0.04891317\n",
            "epoch [52/100], loss:0.08151894\n",
            "epoch [53/100], loss:0.10853326\n",
            "epoch [54/100], loss:0.10989406\n",
            "epoch [55/100], loss:0.24371377\n",
            "epoch [56/100], loss:0.13919834\n",
            "epoch [57/100], loss:0.06468005\n",
            "epoch [58/100], loss:0.08473296\n",
            "epoch [59/100], loss:0.09707257\n",
            "epoch [60/100], loss:0.06563538\n",
            "epoch [61/100], loss:0.09889292\n",
            "epoch [62/100], loss:0.09533799\n",
            "epoch [63/100], loss:0.03491434\n",
            "epoch [64/100], loss:0.14902390\n",
            "epoch [65/100], loss:0.02748088\n",
            "epoch [66/100], loss:0.02350245\n",
            "epoch [67/100], loss:0.19262837\n",
            "epoch [68/100], loss:0.10021265\n",
            "epoch [69/100], loss:0.18917142\n",
            "epoch [70/100], loss:0.12273172\n",
            "epoch [71/100], loss:0.08724361\n",
            "epoch [72/100], loss:0.05615766\n",
            "epoch [73/100], loss:0.05884269\n",
            "epoch [74/100], loss:0.05275809\n",
            "epoch [75/100], loss:0.05275809\n",
            "epoch [76/100], loss:0.10100730\n",
            "epoch [77/100], loss:0.04661938\n",
            "epoch [78/100], loss:0.05026781\n",
            "epoch [79/100], loss:0.08796408\n",
            "epoch [80/100], loss:0.07923939\n",
            "epoch [81/100], loss:0.11059844\n",
            "epoch [82/100], loss:0.10123985\n",
            "epoch [83/100], loss:0.13718743\n",
            "epoch [84/100], loss:0.02947473\n",
            "epoch [85/100], loss:0.07850434\n",
            "epoch [86/100], loss:0.03137507\n",
            "epoch [87/100], loss:0.03215445\n",
            "epoch [88/100], loss:0.06762005\n",
            "epoch [89/100], loss:0.08747057\n",
            "epoch [90/100], loss:0.12107323\n",
            "epoch [91/100], loss:0.20181520\n",
            "epoch [92/100], loss:0.43240807\n",
            "epoch [93/100], loss:0.03195688\n",
            "epoch [94/100], loss:0.05246273\n",
            "epoch [95/100], loss:0.08334965\n",
            "epoch [96/100], loss:0.02350245\n",
            "epoch [97/100], loss:0.08022890\n",
            "epoch [98/100], loss:0.08473296\n",
            "epoch [99/100], loss:0.10249784\n",
            "epoch [100/100], loss:0.05843489\n"
          ]
        },
        {
          "output_type": "execute_result",
          "data": {
            "text/plain": [
              "[<matplotlib.lines.Line2D at 0x7fcae6a0d310>]"
            ]
          },
          "metadata": {},
          "execution_count": 13
        },
        {
          "output_type": "display_data",
          "data": {
            "text/plain": [
              "<Figure size 432x288 with 1 Axes>"
            ],
            "image/png": "[encoded data removed]"
          },
          "metadata": {
            "needs_background": "light"
          }
        }
      ]
    },
    {
      "cell_type": "code",
      "source": [
        "test_losslist=list()\n",
        "for noisy_sample, label_sample in train_loader:\n",
        "      output=model(noisy_sample)\n",
        "      loss=criterion(noisy_sample,label_sample)\n",
        "      loss_np=loss.detach().numpy()\n",
        "      losslist.append(loss_np)\n",
        "#looslist=losslist.detach().numpy()\n",
        "plt.plot(range(len(losslist)),losslist)"
      ],
      "metadata": {
        "colab": {
          "base_uri": "https://localhost:8080/",
          "height": 282
        },
        "id": "sbdrcIIv6VL-",
        "outputId": "059fb5c7-1fae-4576-a6ce-5a7f95a7a8e2"
      },
      "execution_count": 14,
      "outputs": [
        {
          "output_type": "execute_result",
          "data": {
            "text/plain": [
              "[<matplotlib.lines.Line2D at 0x7fcae69da7d0>]"
            ]
          },
          "metadata": {},
          "execution_count": 14
        },
        {
          "output_type": "display_data",
          "data": {
            "text/plain": [
              "<Figure size 432x288 with 1 Axes>"
            ],
            "image/png": "[encoded data removed]"
          },
          "metadata": {
            "needs_background": "light"
          }
        }
      ]
    }
  ]
}